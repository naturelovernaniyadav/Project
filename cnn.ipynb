{
 "cells": [
  {
   "cell_type": "code",
   "execution_count": null,
   "id": "8dfbefbc",
   "metadata": {},
   "outputs": [],
   "source": []
  },
  {
   "cell_type": "code",
   "execution_count": 2,
   "id": "eb2241b1",
   "metadata": {},
   "outputs": [],
   "source": [
    "import pandas as pd\n",
    "import numpy as np\n",
    "from sklearn.model_selection import train_test_split\n",
    "from sklearn.preprocessing import LabelEncoder\n",
    "from sklearn.metrics import accuracy_score\n",
    "from tensorflow.keras.models import Sequential\n",
    "from tensorflow.keras.layers import Embedding, Conv1D, GlobalMaxPooling1D, Dense, Dropout\n",
    "from tensorflow.keras.preprocessing.sequence import pad_sequences\n",
    "from tensorflow.keras.preprocessing.text import Tokenizer\n",
    "\n",
    "# Step 1: Load and preprocess your dataset\n",
    "# data = pd.read_csv('')  # Update with your dataset file path\n",
    "# import dataset\n",
    "pd.set_option('display.max_colwidth', 100)\n",
    "data =pd.read_csv(\"D:\\pythonana\\Dataset-SA.csv\")\n",
    "# Extract the text and label columns\n"
   ]
  },
  {
   "cell_type": "code",
   "execution_count": 3,
   "id": "8e4de5c1",
   "metadata": {},
   "outputs": [],
   "source": [
    "from bs4 import BeautifulSoup\n",
    "import nltk\n",
    "import re\n",
    "from nltk.corpus import stopwords\n",
    "from nltk.stem.snowball import SnowballStemmer\n",
    "\n",
    "# Download the stop words corpus\n",
    "# nltk.download('stopwords')\n",
    "\n",
    "stops = set(stopwords.words('english')) #english stopwords\n",
    "\n",
    "stemmer = SnowballStemmer('english') #SnowballStemmer\n",
    "\n",
    "def review_to_words(raw_review):\n",
    "    # 1. Delete HTML \n",
    "    try:\n",
    "        review_text = BeautifulSoup(raw_review, 'html.parser').get_text()\n",
    "        # 2. Make a space\n",
    "        letters_only = re.sub('[^a-zA-Z]', ' ', review_text)\n",
    "        # 3. lower letters\n",
    "        words = letters_only.lower().split()\n",
    "        # 5. Stopwords \n",
    "        meaningful_words = [w for w in words if not w in stops]\n",
    "        # 6. Stemming\n",
    "        stemming_words = [stemmer.stem(w) for w in meaningful_words]\n",
    "        # 7. space join words\n",
    "        return( ' '.join(stemming_words))\n",
    "    except:\n",
    "        return \"i\""
   ]
  },
  {
   "cell_type": "code",
   "execution_count": 4,
   "id": "e7f08573",
   "metadata": {},
   "outputs": [],
   "source": [
    "data['Summary'] = data['Summary'].apply(review_to_words)"
   ]
  },
  {
   "cell_type": "code",
   "execution_count": null,
   "id": "87de4c00",
   "metadata": {},
   "outputs": [],
   "source": []
  },
  {
   "cell_type": "code",
   "execution_count": null,
   "id": "b9dfd681",
   "metadata": {},
   "outputs": [],
   "source": []
  },
  {
   "cell_type": "code",
   "execution_count": 5,
   "id": "2c9b360a",
   "metadata": {},
   "outputs": [
    {
     "name": "stdout",
     "output_type": "stream",
     "text": [
      "Model: \"sequential\"\n",
      "_________________________________________________________________\n",
      " Layer (type)                Output Shape              Param #   \n",
      "=================================================================\n",
      " embedding (Embedding)       (None, 65, 100)           3548000   \n",
      "                                                                 \n",
      " conv1d (Conv1D)             (None, 61, 64)            32064     \n",
      "                                                                 \n",
      " global_max_pooling1d (Globa  (None, 64)               0         \n",
      " lMaxPooling1D)                                                  \n",
      "                                                                 \n",
      " dense (Dense)               (None, 64)                4160      \n",
      "                                                                 \n",
      " dropout (Dropout)           (None, 64)                0         \n",
      "                                                                 \n",
      " dense_1 (Dense)             (None, 3)                 195       \n",
      "                                                                 \n",
      "=================================================================\n",
      "Total params: 3,584,419\n",
      "Trainable params: 3,584,419\n",
      "Non-trainable params: 0\n",
      "_________________________________________________________________\n",
      "Epoch 1/10\n",
      "5127/5127 [==============================] - 344s 67ms/step - loss: 0.2785 - accuracy: 0.9112 - val_loss: 0.2388 - val_accuracy: 0.9214\n",
      "Epoch 2/10\n",
      "5127/5127 [==============================] - 342s 67ms/step - loss: 0.2250 - accuracy: 0.9280 - val_loss: 0.2355 - val_accuracy: 0.9237\n",
      "Epoch 3/10\n",
      "5127/5127 [==============================] - 343s 67ms/step - loss: 0.1925 - accuracy: 0.9382 - val_loss: 0.2430 - val_accuracy: 0.9206\n",
      "Epoch 4/10\n",
      "5127/5127 [==============================] - 343s 67ms/step - loss: 0.1704 - accuracy: 0.9452 - val_loss: 0.2776 - val_accuracy: 0.9157\n",
      "Epoch 5/10\n",
      "5127/5127 [==============================] - 347s 68ms/step - loss: 0.1551 - accuracy: 0.9505 - val_loss: 0.2852 - val_accuracy: 0.9194\n",
      "Epoch 6/10\n",
      "5127/5127 [==============================] - 343s 67ms/step - loss: 0.1449 - accuracy: 0.9544 - val_loss: 0.3160 - val_accuracy: 0.9154\n",
      "Epoch 7/10\n",
      "5127/5127 [==============================] - 342s 67ms/step - loss: 0.1375 - accuracy: 0.9568 - val_loss: 0.3154 - val_accuracy: 0.9182\n",
      "Epoch 8/10\n",
      "5127/5127 [==============================] - 344s 67ms/step - loss: 0.1316 - accuracy: 0.9587 - val_loss: 0.3539 - val_accuracy: 0.9164\n",
      "Epoch 9/10\n",
      "5127/5127 [==============================] - 347s 68ms/step - loss: 0.1263 - accuracy: 0.9602 - val_loss: 0.3758 - val_accuracy: 0.9174\n",
      "Epoch 10/10\n",
      "5127/5127 [==============================] - 375s 73ms/step - loss: 0.1224 - accuracy: 0.9616 - val_loss: 0.4159 - val_accuracy: 0.9139\n",
      "1282/1282 [==============================] - 11s 8ms/step\n",
      "Accuracy: 0.9139255321742947\n"
     ]
    }
   ],
   "source": [
    "texts = data['Summary'].tolist()\n",
    "\n",
    "labels = data['Sentiment'].tolist()\n",
    "\n",
    "# Step 2: Encode the labels\n",
    "label_encoder = LabelEncoder()\n",
    "encoded_labels = label_encoder.fit_transform(labels)\n",
    "\n",
    "# Step 3: Tokenize the text data\n",
    "tokenizer = Tokenizer()\n",
    "tokenizer.fit_on_texts(texts)\n",
    "vocab_size = len(tokenizer.word_index) + 1\n",
    "sequences = tokenizer.texts_to_sequences(texts)\n",
    "\n",
    "# Step 4: Pad sequences to have equal length\n",
    "max_len = max(len(seq) for seq in sequences)\n",
    "X = pad_sequences(sequences, maxlen=max_len)\n",
    "\n",
    "# Step 5: Split your dataset into training and testing sets\n",
    "X_train, X_test, y_train, y_test = train_test_split(X, encoded_labels, test_size=0.2, random_state=42)\n",
    "\n",
    "# Step 6: Build the CNN model\n",
    "embedding_dim = 100\n",
    "filters = 64\n",
    "kernel_size = 5\n",
    "\n",
    "model = Sequential()\n",
    "model.add(Embedding(vocab_size, embedding_dim, input_length=max_len))\n",
    "model.add(Conv1D(filters, kernel_size, activation='relu'))\n",
    "model.add(GlobalMaxPooling1D())\n",
    "model.add(Dense(64, activation='relu'))\n",
    "model.add(Dropout(0.5))\n",
    "model.add(Dense(len(label_encoder.classes_), activation='softmax'))\n",
    "\n",
    "model.compile(loss='sparse_categorical_crossentropy', optimizer='adam', metrics=['accuracy'])\n",
    "model.summary()\n",
    "\n",
    "# Step 7: Train the model\n",
    "batch_size = 32\n",
    "epochs = 10\n",
    "model.fit(X_train, y_train, validation_data=(X_test, y_test), batch_size=batch_size, epochs=epochs)\n",
    "\n",
    "# Step 8: Evaluate the model\n",
    "y_pred = np.argmax(model.predict(X_test), axis=-1)\n",
    "accuracy = accuracy_score(y_test, y_pred)\n",
    "print(\"Accuracy:\", accuracy)\n",
    "\n",
    "# Step 9: Decode the predicted labels\n",
    "decoded_labels = label_encoder.inverse_transform(y_pred)\n"
   ]
  },
  {
   "cell_type": "code",
   "execution_count": 25,
   "id": "0024251a",
   "metadata": {},
   "outputs": [
    {
     "name": "stdout",
     "output_type": "stream",
     "text": [
      "1/1 [==============================] - 0s 61ms/step\n",
      "Incoming Text: not good\n",
      "Predicted Label: positive\n"
     ]
    }
   ],
   "source": [
    "# Preprocess the incoming data\n",
    "incoming_text = \"not good\"\n",
    "incoming_sequence = tokenizer.texts_to_sequences([incoming_text])\n",
    "incoming_padded_sequence = pad_sequences(incoming_sequence, maxlen=max_len)\n",
    "\n",
    "# Predict the sentiment label for the incoming data\n",
    "predicted_label = np.argmax(model.predict(incoming_padded_sequence), axis=-1)\n",
    "\n",
    "# Decode the predicted label\n",
    "decoded_label = label_encoder.inverse_transform(predicted_label)[0]\n",
    "\n",
    "print(\"Incoming Text:\", incoming_text)\n",
    "print(\"Predicted Label:\", decoded_label)\n"
   ]
  },
  {
   "cell_type": "code",
   "execution_count": 16,
   "id": "01c74dda",
   "metadata": {},
   "outputs": [
    {
     "name": "stderr",
     "output_type": "stream",
     "text": [
      "WARNING:absl:Found untraced functions such as _jit_compiled_convolution_op, _update_step_xla while saving (showing 2 of 2). These functions will not be directly callable after loading.\n"
     ]
    },
    {
     "name": "stdout",
     "output_type": "stream",
     "text": [
      "INFO:tensorflow:Assets written to: saved_model\\assets\n"
     ]
    },
    {
     "name": "stderr",
     "output_type": "stream",
     "text": [
      "INFO:tensorflow:Assets written to: saved_model\\assets\n"
     ]
    },
    {
     "name": "stdout",
     "output_type": "stream",
     "text": [
      "WARNING:tensorflow:6 out of the last 1288 calls to <function Model.make_predict_function.<locals>.predict_function at 0x000002092C4ABE50> triggered tf.function retracing. Tracing is expensive and the excessive number of tracings could be due to (1) creating @tf.function repeatedly in a loop, (2) passing tensors with different shapes, (3) passing Python objects instead of tensors. For (1), please define your @tf.function outside of the loop. For (2), @tf.function has reduce_retracing=True option that can avoid unnecessary retracing. For (3), please refer to https://www.tensorflow.org/guide/function#controlling_retracing and https://www.tensorflow.org/api_docs/python/tf/function for  more details.\n"
     ]
    },
    {
     "name": "stderr",
     "output_type": "stream",
     "text": [
      "WARNING:tensorflow:6 out of the last 1288 calls to <function Model.make_predict_function.<locals>.predict_function at 0x000002092C4ABE50> triggered tf.function retracing. Tracing is expensive and the excessive number of tracings could be due to (1) creating @tf.function repeatedly in a loop, (2) passing tensors with different shapes, (3) passing Python objects instead of tensors. For (1), please define your @tf.function outside of the loop. For (2), @tf.function has reduce_retracing=True option that can avoid unnecessary retracing. For (3), please refer to https://www.tensorflow.org/guide/function#controlling_retracing and https://www.tensorflow.org/api_docs/python/tf/function for  more details.\n"
     ]
    },
    {
     "name": "stdout",
     "output_type": "stream",
     "text": [
      "1/1 [==============================] - 0s 192ms/step\n",
      "Incoming Text: value for money\n",
      "Predicted Label: positive\n"
     ]
    }
   ],
   "source": [
    "# import tensorflow as tf\n",
    "\n",
    "# # Save the model\n",
    "# # tf.saved_model.save(model, 'saved_model')\n",
    "# tf.keras.models.save_model(model, 'saved_model')\n",
    "\n",
    "# # Load the model\n",
    "# # loaded_model = tf.saved_model.load('saved_model')\n",
    "\n",
    "# import tensorflow as tf\n",
    "\n",
    "# # Load the saved model\n",
    "# loaded_model = tf.keras.models.load_model('saved_model')\n",
    "\n",
    "# # Now you can use the loaded model to make predictions on new data\n",
    "# incoming_text = \"value for money\"\n",
    "# incoming_sequence = tokenizer.texts_to_sequences([incoming_text])\n",
    "# incoming_padded_sequence = pad_sequences(incoming_sequence, maxlen=max_len)\n",
    "\n",
    "# # Predict the sentiment label for the incoming data\n",
    "# predicted_label = np.argmax(loaded_model.predict(incoming_padded_sequence), axis=-1)\n",
    "\n",
    "# # Decode the predicted label\n",
    "# decoded_label = label_encoder.inverse_transform(predicted_label)[0]\n",
    "\n",
    "# print(\"Incoming Text:\", incoming_text)\n",
    "# print(\"Predicted Label:\", decoded_label)\n",
    "\n"
   ]
  },
  {
   "cell_type": "code",
   "execution_count": 9,
   "id": "15ba2be6",
   "metadata": {},
   "outputs": [
    {
     "ename": "ValueError",
     "evalue": "Could not find matching concrete function to call loaded from the SavedModel. Got:\n  Positional arguments (3 total):\n    * <tf.Tensor 'inputs:0' shape=(1, 65) dtype=int32>\n    * False\n    * None\n  Keyword arguments: {}\n\n Expected these arguments to match one of the following 4 option(s):\n\nOption 1:\n  Positional arguments (3 total):\n    * TensorSpec(shape=(None, 65), dtype=tf.float32, name='embedding_input')\n    * True\n    * None\n  Keyword arguments: {}\n\nOption 2:\n  Positional arguments (3 total):\n    * TensorSpec(shape=(None, 65), dtype=tf.float32, name='embedding_input')\n    * False\n    * None\n  Keyword arguments: {}\n\nOption 3:\n  Positional arguments (3 total):\n    * TensorSpec(shape=(None, 65), dtype=tf.float32, name='inputs')\n    * True\n    * None\n  Keyword arguments: {}\n\nOption 4:\n  Positional arguments (3 total):\n    * TensorSpec(shape=(None, 65), dtype=tf.float32, name='inputs')\n    * False\n    * None\n  Keyword arguments: {}",
     "output_type": "error",
     "traceback": [
      "\u001b[1;31m---------------------------------------------------------------------------\u001b[0m",
      "\u001b[1;31mValueError\u001b[0m                                Traceback (most recent call last)",
      "Input \u001b[1;32mIn [9]\u001b[0m, in \u001b[0;36m<cell line: 14>\u001b[1;34m()\u001b[0m\n\u001b[0;32m     11\u001b[0m incoming_padded_sequence \u001b[38;5;241m=\u001b[39m pad_sequences(incoming_sequence, maxlen\u001b[38;5;241m=\u001b[39mmax_len)\n\u001b[0;32m     13\u001b[0m \u001b[38;5;66;03m# Make predictions on the incoming data\u001b[39;00m\n\u001b[1;32m---> 14\u001b[0m predictions \u001b[38;5;241m=\u001b[39m \u001b[43mloaded_model\u001b[49m\u001b[43m(\u001b[49m\u001b[43mincoming_padded_sequence\u001b[49m\u001b[43m)\u001b[49m\n",
      "File \u001b[1;32m~\\anaconda3\\lib\\site-packages\\tensorflow\\python\\saved_model\\load.py:740\u001b[0m, in \u001b[0;36m_call_attribute\u001b[1;34m(instance, *args, **kwargs)\u001b[0m\n\u001b[0;32m    739\u001b[0m \u001b[38;5;28;01mdef\u001b[39;00m \u001b[38;5;21m_call_attribute\u001b[39m(instance, \u001b[38;5;241m*\u001b[39margs, \u001b[38;5;241m*\u001b[39m\u001b[38;5;241m*\u001b[39mkwargs):\n\u001b[1;32m--> 740\u001b[0m   \u001b[38;5;28;01mreturn\u001b[39;00m instance\u001b[38;5;241m.\u001b[39m\u001b[38;5;21m__call__\u001b[39m(\u001b[38;5;241m*\u001b[39margs, \u001b[38;5;241m*\u001b[39m\u001b[38;5;241m*\u001b[39mkwargs)\n",
      "File \u001b[1;32m~\\anaconda3\\lib\\site-packages\\tensorflow\\python\\util\\traceback_utils.py:153\u001b[0m, in \u001b[0;36mfilter_traceback.<locals>.error_handler\u001b[1;34m(*args, **kwargs)\u001b[0m\n\u001b[0;32m    151\u001b[0m \u001b[38;5;28;01mexcept\u001b[39;00m \u001b[38;5;167;01mException\u001b[39;00m \u001b[38;5;28;01mas\u001b[39;00m e:\n\u001b[0;32m    152\u001b[0m   filtered_tb \u001b[38;5;241m=\u001b[39m _process_traceback_frames(e\u001b[38;5;241m.\u001b[39m__traceback__)\n\u001b[1;32m--> 153\u001b[0m   \u001b[38;5;28;01mraise\u001b[39;00m e\u001b[38;5;241m.\u001b[39mwith_traceback(filtered_tb) \u001b[38;5;28;01mfrom\u001b[39;00m \u001b[38;5;28mNone\u001b[39m\n\u001b[0;32m    154\u001b[0m \u001b[38;5;28;01mfinally\u001b[39;00m:\n\u001b[0;32m    155\u001b[0m   \u001b[38;5;28;01mdel\u001b[39;00m filtered_tb\n",
      "File \u001b[1;32m~\\anaconda3\\lib\\site-packages\\tensorflow\\python\\saved_model\\function_deserialization.py:295\u001b[0m, in \u001b[0;36mrecreate_function.<locals>.restored_function_body\u001b[1;34m(*args, **kwargs)\u001b[0m\n\u001b[0;32m    291\u001b[0m   positional, keyword \u001b[38;5;241m=\u001b[39m concrete_function\u001b[38;5;241m.\u001b[39mstructured_input_signature\n\u001b[0;32m    292\u001b[0m   signature_descriptions\u001b[38;5;241m.\u001b[39mappend(\n\u001b[0;32m    293\u001b[0m       \u001b[38;5;124m\"\u001b[39m\u001b[38;5;124mOption \u001b[39m\u001b[38;5;132;01m{}\u001b[39;00m\u001b[38;5;124m:\u001b[39m\u001b[38;5;130;01m\\n\u001b[39;00m\u001b[38;5;124m  \u001b[39m\u001b[38;5;132;01m{}\u001b[39;00m\u001b[38;5;130;01m\\n\u001b[39;00m\u001b[38;5;124m  Keyword arguments: \u001b[39m\u001b[38;5;132;01m{}\u001b[39;00m\u001b[38;5;124m\"\u001b[39m\u001b[38;5;241m.\u001b[39mformat(\n\u001b[0;32m    294\u001b[0m           index \u001b[38;5;241m+\u001b[39m \u001b[38;5;241m1\u001b[39m, _pretty_format_positional(positional), keyword))\n\u001b[1;32m--> 295\u001b[0m \u001b[38;5;28;01mraise\u001b[39;00m \u001b[38;5;167;01mValueError\u001b[39;00m(\n\u001b[0;32m    296\u001b[0m     \u001b[38;5;124m\"\u001b[39m\u001b[38;5;124mCould not find matching concrete function to call loaded from the \u001b[39m\u001b[38;5;124m\"\u001b[39m\n\u001b[0;32m    297\u001b[0m     \u001b[38;5;124mf\u001b[39m\u001b[38;5;124m\"\u001b[39m\u001b[38;5;124mSavedModel. Got:\u001b[39m\u001b[38;5;130;01m\\n\u001b[39;00m\u001b[38;5;124m  \u001b[39m\u001b[38;5;132;01m{\u001b[39;00m_pretty_format_positional(args)\u001b[38;5;132;01m}\u001b[39;00m\u001b[38;5;130;01m\\n\u001b[39;00m\u001b[38;5;124m  Keyword \u001b[39m\u001b[38;5;124m\"\u001b[39m\n\u001b[0;32m    298\u001b[0m     \u001b[38;5;124mf\u001b[39m\u001b[38;5;124m\"\u001b[39m\u001b[38;5;124marguments: \u001b[39m\u001b[38;5;132;01m{\u001b[39;00mkwargs\u001b[38;5;132;01m}\u001b[39;00m\u001b[38;5;130;01m\\n\u001b[39;00m\u001b[38;5;130;01m\\n\u001b[39;00m\u001b[38;5;124m Expected these arguments to match one of the \u001b[39m\u001b[38;5;124m\"\u001b[39m\n\u001b[0;32m    299\u001b[0m     \u001b[38;5;124mf\u001b[39m\u001b[38;5;124m\"\u001b[39m\u001b[38;5;124mfollowing \u001b[39m\u001b[38;5;132;01m{\u001b[39;00m\u001b[38;5;28mlen\u001b[39m(saved_function\u001b[38;5;241m.\u001b[39mconcrete_functions)\u001b[38;5;132;01m}\u001b[39;00m\u001b[38;5;124m option(s):\u001b[39m\u001b[38;5;130;01m\\n\u001b[39;00m\u001b[38;5;130;01m\\n\u001b[39;00m\u001b[38;5;124m\"\u001b[39m\n\u001b[0;32m    300\u001b[0m     \u001b[38;5;124mf\u001b[39m\u001b[38;5;124m\"\u001b[39m\u001b[38;5;132;01m{\u001b[39;00m(\u001b[38;5;28mchr\u001b[39m(\u001b[38;5;241m10\u001b[39m)\u001b[38;5;241m+\u001b[39m\u001b[38;5;28mchr\u001b[39m(\u001b[38;5;241m10\u001b[39m))\u001b[38;5;241m.\u001b[39mjoin(signature_descriptions)\u001b[38;5;132;01m}\u001b[39;00m\u001b[38;5;124m\"\u001b[39m)\n",
      "\u001b[1;31mValueError\u001b[0m: Could not find matching concrete function to call loaded from the SavedModel. Got:\n  Positional arguments (3 total):\n    * <tf.Tensor 'inputs:0' shape=(1, 65) dtype=int32>\n    * False\n    * None\n  Keyword arguments: {}\n\n Expected these arguments to match one of the following 4 option(s):\n\nOption 1:\n  Positional arguments (3 total):\n    * TensorSpec(shape=(None, 65), dtype=tf.float32, name='embedding_input')\n    * True\n    * None\n  Keyword arguments: {}\n\nOption 2:\n  Positional arguments (3 total):\n    * TensorSpec(shape=(None, 65), dtype=tf.float32, name='embedding_input')\n    * False\n    * None\n  Keyword arguments: {}\n\nOption 3:\n  Positional arguments (3 total):\n    * TensorSpec(shape=(None, 65), dtype=tf.float32, name='inputs')\n    * True\n    * None\n  Keyword arguments: {}\n\nOption 4:\n  Positional arguments (3 total):\n    * TensorSpec(shape=(None, 65), dtype=tf.float32, name='inputs')\n    * False\n    * None\n  Keyword arguments: {}"
     ]
    }
   ],
   "source": [
    "# import tensorflow as tf\n",
    "\n",
    "# # Load the saved model\n",
    "# loaded_model = tf.saved_model.load('saved_model')\n",
    "\n",
    "# # Preprocess the incoming data\n",
    "# # incoming_text = \"value for money\"\n",
    "# # Perform any necessary preprocessing on the incoming text\n",
    "# incoming_text = \"not bad\"\n",
    "# incoming_sequence = tokenizer.texts_to_sequences([incoming_text])\n",
    "# incoming_padded_sequence = pad_sequences(incoming_sequence, maxlen=max_len)\n",
    "\n",
    "# # Make predictions on the incoming data\n",
    "# predictions = loaded_model(incoming_padded_sequence)\n"
   ]
  },
  {
   "cell_type": "code",
   "execution_count": 15,
   "id": "c7170b05",
   "metadata": {},
   "outputs": [
    {
     "name": "stdout",
     "output_type": "stream",
     "text": [
      "WARNING:tensorflow:5 out of the last 1287 calls to <function Model.make_predict_function.<locals>.predict_function at 0x000002092C4A5DC0> triggered tf.function retracing. Tracing is expensive and the excessive number of tracings could be due to (1) creating @tf.function repeatedly in a loop, (2) passing tensors with different shapes, (3) passing Python objects instead of tensors. For (1), please define your @tf.function outside of the loop. For (2), @tf.function has reduce_retracing=True option that can avoid unnecessary retracing. For (3), please refer to https://www.tensorflow.org/guide/function#controlling_retracing and https://www.tensorflow.org/api_docs/python/tf/function for  more details.\n"
     ]
    },
    {
     "name": "stderr",
     "output_type": "stream",
     "text": [
      "WARNING:tensorflow:5 out of the last 1287 calls to <function Model.make_predict_function.<locals>.predict_function at 0x000002092C4A5DC0> triggered tf.function retracing. Tracing is expensive and the excessive number of tracings could be due to (1) creating @tf.function repeatedly in a loop, (2) passing tensors with different shapes, (3) passing Python objects instead of tensors. For (1), please define your @tf.function outside of the loop. For (2), @tf.function has reduce_retracing=True option that can avoid unnecessary retracing. For (3), please refer to https://www.tensorflow.org/guide/function#controlling_retracing and https://www.tensorflow.org/api_docs/python/tf/function for  more details.\n"
     ]
    },
    {
     "name": "stdout",
     "output_type": "stream",
     "text": [
      "1/1 [==============================] - 0s 185ms/step\n",
      "Incoming Text: worst\n",
      "Predicted Label: positive\n"
     ]
    }
   ],
   "source": [
    "# import tensorflow as tf\n",
    "# from tensorflow.keras.preprocessing.sequence import pad_sequences\n",
    "# from tensorflow.keras.preprocessing.text import Tokenizer\n",
    "\n",
    "# # Load the saved model\n",
    "# loaded_model = tf.keras.models.load_model('saved_model')\n",
    "\n",
    "# # Preprocess the incoming data\n",
    "# incoming_text = \"worst\"\n",
    "\n",
    "# # Tokenize the incoming text\n",
    "# tokenizer = Tokenizer()\n",
    "# tokenizer.fit_on_texts([incoming_text])\n",
    "# sequences = tokenizer.texts_to_sequences([incoming_text])\n",
    "\n",
    "# # Pad the sequences to have the same length as the training data\n",
    "# max_len = 65  # Maximum sequence length used during training\n",
    "# padded_sequences = pad_sequences(sequences, maxlen=max_len)\n",
    "\n",
    "# # Make predictions on the preprocessed data\n",
    "# predictions = loaded_model.predict(padded_sequences)\n",
    "\n",
    "# # Decode the predicted labels\n",
    "# predicted_label = np.argmax(predictions, axis=1)\n",
    "# decoded_label = label_encoder.inverse_transform(predicted_label)[0]\n",
    "\n",
    "# print(\"Incoming Text:\", incoming_text)\n",
    "# print(\"Predicted Label:\", decoded_label)\n"
   ]
  },
  {
   "cell_type": "code",
   "execution_count": 19,
   "id": "3f514ced",
   "metadata": {},
   "outputs": [
    {
     "name": "stdout",
     "output_type": "stream",
     "text": [
      "1/1 [==============================] - 0s 178ms/step\n",
      "Incoming Text: useless\n",
      "Predicted Label: positive\n"
     ]
    }
   ],
   "source": [
    "# import tensorflow as tf\n",
    "\n",
    "# # Load the saved model\n",
    "# loaded_model = tf.keras.models.load_model('saved_model')\n",
    "\n",
    "# # Now you can use the loaded model to make predictions on new data\n",
    "# incoming_text = \"useless\"\n",
    "# incoming_sequence = tokenizer.texts_to_sequences([incoming_text])\n",
    "# incoming_padded_sequence = pad_sequences(incoming_sequence, maxlen=max_len)\n",
    "\n",
    "# # Predict the sentiment label for the incoming data\n",
    "# predicted_label = np.argmax(loaded_model.predict(incoming_padded_sequence), axis=-1)\n",
    "\n",
    "# # Decode the predicted label\n",
    "# decoded_label = label_encoder.inverse_transform(predicted_label)[0]\n",
    "\n",
    "# print(\"Incoming Text:\", incoming_text)\n",
    "# print(\"Predicted Label:\", decoded_label)\n",
    "\n"
   ]
  },
  {
   "cell_type": "code",
   "execution_count": null,
   "id": "714ee51b",
   "metadata": {},
   "outputs": [],
   "source": []
  }
 ],
 "metadata": {
  "kernelspec": {
   "display_name": "Python 3 (ipykernel)",
   "language": "python",
   "name": "python3"
  },
  "language_info": {
   "codemirror_mode": {
    "name": "ipython",
    "version": 3
   },
   "file_extension": ".py",
   "mimetype": "text/x-python",
   "name": "python",
   "nbconvert_exporter": "python",
   "pygments_lexer": "ipython3",
   "version": "3.9.12"
  }
 },
 "nbformat": 4,
 "nbformat_minor": 5
}
