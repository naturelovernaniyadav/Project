{
 "cells": [
  {
   "cell_type": "code",
   "execution_count": 1,
   "id": "39af8adf",
   "metadata": {},
   "outputs": [],
   "source": [
    "import pandas as pd\n",
    "import numpy as np\n",
    "from sklearn.model_selection import train_test_split\n",
    "from sklearn.preprocessing import LabelEncoder\n",
    "from sklearn.metrics import accuracy_score\n",
    "from tensorflow.keras.models import Sequential\n",
    "from tensorflow.keras.layers import Embedding, Conv1D, GlobalMaxPooling1D, Dense, Dropout\n",
    "from tensorflow.keras.preprocessing.sequence import pad_sequences\n",
    "from tensorflow.keras.preprocessing.text import Tokenizer\n",
    "\n",
    "# Step 1: Load and preprocess your dataset\n",
    "# data = pd.read_csv('')  # Update with your dataset file path\n",
    "# import dataset\n",
    "pd.set_option('display.max_colwidth', 100)\n",
    "data =pd.read_csv(\"D:\\pythonana\\data-review-based-sa.csv\")\n",
    "# Extract the text and label columns\n"
   ]
  },
  {
   "cell_type": "code",
   "execution_count": 2,
   "id": "a4729a10",
   "metadata": {},
   "outputs": [],
   "source": [
    "from bs4 import BeautifulSoup\n",
    "import nltk\n",
    "import re\n",
    "from nltk.corpus import stopwords\n",
    "from nltk.stem.snowball import SnowballStemmer\n",
    "\n",
    "# Download the stop words corpus\n",
    "# nltk.download('stopwords')\n",
    "\n",
    "stops = set(stopwords.words('english')) #english stopwords\n",
    "\n",
    "stemmer = SnowballStemmer('english') #SnowballStemmer\n",
    "\n",
    "def review_to_words(raw_review):\n",
    "    # 1. Delete HTML \n",
    "    try:\n",
    "        review_text = BeautifulSoup(raw_review, 'html.parser').get_text()\n",
    "        # 2. Make a space\n",
    "        letters_only = re.sub('[^a-zA-Z]', ' ', review_text)\n",
    "        # 3. lower letters\n",
    "        words = letters_only.lower().split()\n",
    "        # 5. Stopwords \n",
    "        meaningful_words = [w for w in words if not w in stops]\n",
    "        # 6. Stemming\n",
    "        stemming_words = [stemmer.stem(w) for w in meaningful_words]\n",
    "        # 7. space join words\n",
    "        return( ' '.join(stemming_words))\n",
    "    except:\n",
    "        return \"i\""
   ]
  },
  {
   "cell_type": "code",
   "execution_count": 3,
   "id": "dad7c2a1",
   "metadata": {},
   "outputs": [
    {
     "name": "stderr",
     "output_type": "stream",
     "text": [
      "C:\\Users\\LENOVO\\anaconda3\\lib\\site-packages\\bs4\\__init__.py:435: MarkupResemblesLocatorWarning: The input looks more like a filename than markup. You may want to open this file and pass the filehandle into Beautiful Soup.\n",
      "  warnings.warn(\n"
     ]
    }
   ],
   "source": [
    "data['Review'] = data['Review'].apply(review_to_words)\n"
   ]
  },
  {
   "cell_type": "code",
   "execution_count": 4,
   "id": "484235ef",
   "metadata": {},
   "outputs": [],
   "source": [
    "# make proper modifications to the dataset\n",
    "def giverate(i):\n",
    "#     print(i)\n",
    "#     if isdigit(i):\n",
    "#         i=int(i)\n",
    "    try:\n",
    "        i=int(i)\n",
    "    except ValueError:\n",
    "        flag = False\n",
    "    if i == 5:\n",
    "        return 'positive'\n",
    "    elif i==4:\n",
    "        return 'semi-positive'\n",
    "    elif i==3:\n",
    "        return 'neutral'\n",
    "    elif i==2:\n",
    "        return 'semi-negative'\n",
    "    else:\n",
    "        return 'negative'\n",
    "\n",
    "    \n",
    "data['Sentiment'] = data['Rate'].apply(lambda x : giverate((x)))"
   ]
  },
  {
   "cell_type": "code",
   "execution_count": 5,
   "id": "94b01609",
   "metadata": {},
   "outputs": [
    {
     "name": "stdout",
     "output_type": "stream",
     "text": [
      "Model: \"sequential\"\n",
      "_________________________________________________________________\n",
      " Layer (type)                Output Shape              Param #   \n",
      "=================================================================\n",
      " embedding (Embedding)       (None, 14, 100)           103000    \n",
      "                                                                 \n",
      " conv1d (Conv1D)             (None, 10, 64)            32064     \n",
      "                                                                 \n",
      " global_max_pooling1d (Globa  (None, 64)               0         \n",
      " lMaxPooling1D)                                                  \n",
      "                                                                 \n",
      " dense (Dense)               (None, 64)                4160      \n",
      "                                                                 \n",
      " dropout (Dropout)           (None, 64)                0         \n",
      "                                                                 \n",
      " dense_1 (Dense)             (None, 5)                 325       \n",
      "                                                                 \n",
      "=================================================================\n",
      "Total params: 139,549\n",
      "Trainable params: 139,549\n",
      "Non-trainable params: 0\n",
      "_________________________________________________________________\n",
      "Epoch 1/10\n",
      "5127/5127 [==============================] - 78s 14ms/step - loss: 0.3426 - accuracy: 0.8763 - val_loss: 0.2940 - val_accuracy: 0.8902\n",
      "Epoch 2/10\n",
      "5127/5127 [==============================] - 72s 14ms/step - loss: 0.3089 - accuracy: 0.8868 - val_loss: 0.2927 - val_accuracy: 0.8904\n",
      "Epoch 3/10\n",
      "5127/5127 [==============================] - 72s 14ms/step - loss: 0.3058 - accuracy: 0.8876 - val_loss: 0.2936 - val_accuracy: 0.8903\n",
      "Epoch 4/10\n",
      "5127/5127 [==============================] - 71s 14ms/step - loss: 0.3034 - accuracy: 0.8880 - val_loss: 0.2929 - val_accuracy: 0.8904\n",
      "Epoch 5/10\n",
      "5127/5127 [==============================] - 46s 9ms/step - loss: 0.3020 - accuracy: 0.8883 - val_loss: 0.2959 - val_accuracy: 0.8904\n",
      "Epoch 6/10\n",
      "5127/5127 [==============================] - 43s 8ms/step - loss: 0.3008 - accuracy: 0.8886 - val_loss: 0.2952 - val_accuracy: 0.8901\n",
      "Epoch 7/10\n",
      "5127/5127 [==============================] - 43s 8ms/step - loss: 0.3009 - accuracy: 0.8885 - val_loss: 0.2971 - val_accuracy: 0.8902\n",
      "Epoch 8/10\n",
      "5127/5127 [==============================] - 46s 9ms/step - loss: 0.3001 - accuracy: 0.8886 - val_loss: 0.2970 - val_accuracy: 0.8900\n",
      "Epoch 9/10\n",
      "5127/5127 [==============================] - 44s 9ms/step - loss: 0.3000 - accuracy: 0.8889 - val_loss: 0.2974 - val_accuracy: 0.8845\n",
      "Epoch 10/10\n",
      "5127/5127 [==============================] - 44s 9ms/step - loss: 0.2995 - accuracy: 0.8887 - val_loss: 0.2991 - val_accuracy: 0.8902\n",
      "1282/1282 [==============================] - 5s 4ms/step\n",
      "Accuracy: 0.8901514227890078\n"
     ]
    }
   ],
   "source": [
    "texts = data['Review'].tolist()\n",
    "\n",
    "labels = data['Sentiment'].tolist()\n",
    "\n",
    "# Step 2: Encode the labels\n",
    "label_encoder = LabelEncoder()\n",
    "encoded_labels = label_encoder.fit_transform(labels)\n",
    "\n",
    "# Step 3: Tokenize the text data\n",
    "tokenizer = Tokenizer()\n",
    "tokenizer.fit_on_texts(texts)\n",
    "vocab_size = len(tokenizer.word_index) + 1\n",
    "sequences = tokenizer.texts_to_sequences(texts)\n",
    "\n",
    "# Step 4: Pad sequences to have equal length\n",
    "max_len = max(len(seq) for seq in sequences)\n",
    "X = pad_sequences(sequences, maxlen=max_len)\n",
    "\n",
    "# Step 5: Split your dataset into training and testing sets\n",
    "X_train, X_test, y_train, y_test = train_test_split(X, encoded_labels, test_size=0.2, random_state=42)\n",
    "\n",
    "# Step 6: Build the CNN model\n",
    "embedding_dim = 100\n",
    "filters = 64\n",
    "kernel_size = 5\n",
    "\n",
    "model = Sequential()\n",
    "model.add(Embedding(vocab_size, embedding_dim, input_length=max_len))\n",
    "model.add(Conv1D(filters, kernel_size, activation='relu'))\n",
    "model.add(GlobalMaxPooling1D())\n",
    "model.add(Dense(64, activation='relu'))\n",
    "model.add(Dropout(0.5))\n",
    "model.add(Dense(len(label_encoder.classes_), activation='softmax'))\n",
    "\n",
    "model.compile(loss='sparse_categorical_crossentropy', optimizer='adam', metrics=['accuracy'])\n",
    "model.summary()\n",
    "\n",
    "# Step 7: Train the model\n",
    "batch_size = 32\n",
    "epochs = 10\n",
    "model.fit(X_train, y_train, validation_data=(X_test, y_test), batch_size=batch_size, epochs=epochs)\n",
    "\n",
    "# Step 8: Evaluate the model\n",
    "y_pred = np.argmax(model.predict(X_test), axis=-1)\n",
    "accuracy = accuracy_score(y_test, y_pred)\n",
    "print(\"Accuracy:\", accuracy)\n",
    "\n",
    "# Step 9: Decode the predicted labels\n",
    "decoded_labels = label_encoder.inverse_transform(y_pred)\n"
   ]
  },
  {
   "cell_type": "code",
   "execution_count": 29,
   "id": "f15bce9c",
   "metadata": {},
   "outputs": [
    {
     "name": "stdout",
     "output_type": "stream",
     "text": [
      "1/1 [==============================] - 0s 31ms/step\n",
      "Incoming Text: need improv\n",
      "Predicted Label: neutral\n"
     ]
    }
   ],
   "source": [
    "# Preprocess the incoming data\n",
    "incoming_text = \"needs improvement \"\n",
    "from nltk.stem import PorterStemmer\n",
    "from nltk.tokenize import word_tokenize\n",
    "\n",
    "# Initialize the stemmer\n",
    "stemmer = PorterStemmer()\n",
    "\n",
    "# Example sentence\n",
    "# sentence = \"The quick brown foxes jumped over the lazy dogs\"\n",
    "\n",
    "# Tokenize the sentence\n",
    "tokens = word_tokenize(incoming_text)\n",
    "\n",
    "# Apply stemming to each token\n",
    "incoming_text = \" \".join([stemmer.stem(token) for token in tokens])\n",
    "\n",
    "# Print the stemmed words\n",
    "# print(incoming_text)\n",
    "incoming_sequence = tokenizer.texts_to_sequences([incoming_text])\n",
    "incoming_padded_sequence = pad_sequences(incoming_sequence, maxlen=max_len)\n",
    "\n",
    "# Predict the sentiment label for the incoming data\n",
    "predicted_label = np.argmax(model.predict(incoming_padded_sequence), axis=-1)\n",
    "\n",
    "# Decode the predicted label\n",
    "decoded_label = label_encoder.inverse_transform(predicted_label)[0]\n",
    "\n",
    "print(\"Incoming Text:\", incoming_text)\n",
    "print(\"Predicted Label:\", decoded_label)"
   ]
  },
  {
   "cell_type": "code",
   "execution_count": 17,
   "id": "746a0c77",
   "metadata": {},
   "outputs": [
    {
     "name": "stderr",
     "output_type": "stream",
     "text": [
      "WARNING:absl:Found untraced functions such as _jit_compiled_convolution_op, _update_step_xla while saving (showing 2 of 2). These functions will not be directly callable after loading.\n"
     ]
    },
    {
     "name": "stdout",
     "output_type": "stream",
     "text": [
      "INFO:tensorflow:Assets written to: saved_model\\assets\n"
     ]
    },
    {
     "name": "stderr",
     "output_type": "stream",
     "text": [
      "INFO:tensorflow:Assets written to: saved_model\\assets\n"
     ]
    },
    {
     "name": "stdout",
     "output_type": "stream",
     "text": [
      "1/1 [==============================] - 0s 205ms/step\n",
      "Incoming Text: ok\n",
      "Predicted Label: semi-positive\n"
     ]
    }
   ],
   "source": [
    "import tensorflow as tf\n",
    "\n",
    "# Save the model\n",
    "# tf.saved_model.save(model, 'saved_model')\n",
    "tf.keras.models.save_model(model, 'saved_model')\n",
    "\n",
    "# Load the model\n",
    "# loaded_model = tf.saved_model.load('saved_model')\n",
    "\n",
    "# import tensorflow as tf\n",
    "\n",
    "# # Load the saved model\n",
    "# loaded_model = tf.keras.models.load_model('saved_model')\n",
    "\n",
    "# # Now you can use the loaded model to make predictions on new data\n",
    "# incoming_text = \"ok\"\n",
    "# incoming_sequence = tokenizer.texts_to_sequences([incoming_text])\n",
    "# incoming_padded_sequence = pad_sequences(incoming_sequence, maxlen=max_len)\n",
    "\n",
    "# # Predict the sentiment label for the incoming data\n",
    "# predicted_label = np.argmax(loaded_model.predict(incoming_padded_sequence), axis=-1)\n",
    "\n",
    "# # Decode the predicted label\n",
    "# decoded_label = label_encoder.inverse_transform(predicted_label)[0]\n",
    "\n",
    "# print(\"Incoming Text:\", incoming_text)\n",
    "# print(\"Predicted Label:\", decoded_label)\n",
    "\n"
   ]
  },
  {
   "cell_type": "code",
   "execution_count": 30,
   "id": "c2a50407",
   "metadata": {},
   "outputs": [
    {
     "name": "stdout",
     "output_type": "stream",
     "text": [
      "1/1 [==============================] - 0s 121ms/step\n",
      "Incoming Text: needs improvement\n",
      "Predicted Label: positive\n"
     ]
    }
   ],
   "source": [
    "import tensorflow as tf\n",
    "\n",
    "# Load the saved model\n",
    "loaded_model = tf.keras.models.load_model('saved_model')\n",
    "\n",
    "# Now you can use the loaded model to make predictions on new data\n",
    "incoming_text = \"needs improvement\"\n",
    "incoming_sequence = tokenizer.texts_to_sequences([incoming_text])\n",
    "incoming_padded_sequence = pad_sequences(incoming_sequence, maxlen=max_len)\n",
    "\n",
    "# Predict the sentiment label for the incoming data\n",
    "predicted_label = np.argmax(loaded_model.predict(incoming_padded_sequence), axis=-1)\n",
    "\n",
    "# Decode the predicted label\n",
    "decoded_label = label_encoder.inverse_transform(predicted_label)[0]\n",
    "\n",
    "print(\"Incoming Text:\", incoming_text)\n",
    "print(\"Predicted Label:\", decoded_label)\n",
    "\n"
   ]
  },
  {
   "cell_type": "code",
   "execution_count": null,
   "id": "a93caf30",
   "metadata": {},
   "outputs": [],
   "source": []
  }
 ],
 "metadata": {
  "kernelspec": {
   "display_name": "Python 3 (ipykernel)",
   "language": "python",
   "name": "python3"
  },
  "language_info": {
   "codemirror_mode": {
    "name": "ipython",
    "version": 3
   },
   "file_extension": ".py",
   "mimetype": "text/x-python",
   "name": "python",
   "nbconvert_exporter": "python",
   "pygments_lexer": "ipython3",
   "version": "3.9.12"
  }
 },
 "nbformat": 4,
 "nbformat_minor": 5
}
